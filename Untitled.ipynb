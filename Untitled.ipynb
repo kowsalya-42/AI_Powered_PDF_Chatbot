{
 "cells": [
  {
   "cell_type": "code",
   "execution_count": 1,
   "id": "e6d24966-3dac-44e4-8b55-f077bdbc4a83",
   "metadata": {},
   "outputs": [],
   "source": [
    "!pip install -q transformers peft  accelerate bitsandbytes safetensors sentencepiece streamlit chromadb langchain sentence-transformers gradio pypdf langchain-community"
   ]
  },
  {
   "cell_type": "code",
   "execution_count": 3,
   "id": "dc6ee1b1-fffd-44c8-b611-d951bc36de59",
   "metadata": {},
   "outputs": [],
   "source": [
    "import locale\n",
    "locale.getpreferredencoding = lambda: \"UTF-8\""
   ]
  },
  {
   "cell_type": "code",
   "execution_count": null,
   "id": "cb0215eb-1e17-4caa-9f67-9f7e9cc3329e",
   "metadata": {},
   "outputs": [],
   "source": [
    "import torch\n",
    "from transformers import AutoModelForCausalLM, AutoTokenizer, BitsAndBytesConfig, pipeline\n",
    "\n",
    "import os\n",
    "import gradio as gr\n",
    "\n",
    "import chromadb\n",
    "from langchain.llms import HuggingFacePipeline\n",
    "from langchain.document_loaders import TextLoader\n",
    "from langchain.text_splitter import RecursiveCharacterTextSplitter\n",
    "from langchain.embeddings import HuggingFaceEmbeddings\n",
    "from langchain.vectorstores import Chroma\n",
    "from langchain import HuggingFacePipeline\n",
    "from langchain.document_loaders import PyPDFDirectoryLoader\n",
    "from langchain.chains import ConversationalRetrievalChain\n",
    "from langchain.memory import ConversationBufferMemory"
   ]
  },
  {
   "cell_type": "code",
   "execution_count": null,
   "id": "43bad641-f8c5-43ee-aec2-aa43425e8cc3",
   "metadata": {},
   "outputs": [],
   "source": [
    "model_name = \"HuggingFaceH4/zephyr-7b-beta\"\n",
    "\n",
    "def load_quantized_model(model_name: str):\n",
    "    \"\"\"\n",
    "    :param model_name: Name or path of the model to be loaded.\n",
    "    :return: Loaded quantized model.\n",
    "    \"\"\"\n",
    "    bnb_config = BitsAndBytesConfig(\n",
    "        load_in_4bit=True,\n",
    "        bnb_4bit_use_double_quant=True,\n",
    "        bnb_4bit_quant_type=\"nf4\",\n",
    "        bnb_4bit_compute_dtype=torch.bfloat16\n",
    "    )\n",
    "\n",
    "    model = AutoModelForCausalLM.from_pretrained(\n",
    "        model_name,\n",
    "        # load_in_4bit=True,\n",
    "        torch_dtype=torch.bfloat16,\n",
    "        quantization_config=bnb_config\n",
    "    )\n",
    "    return model"
   ]
  },
  {
   "cell_type": "code",
   "execution_count": null,
   "id": "115c5bda-a663-4ef5-8406-98acfd33d340",
   "metadata": {},
   "outputs": [],
   "source": [
    "def initialize_tokenizer(model_name: str):\n",
    "    \"\"\"\n",
    "    Initialize the tokenizer with the specified model_name.\n",
    "\n",
    "    :param model_name: Name or path of the model for tokenizer initialization.\n",
    "    :return: Initialized tokenizer.\n",
    "    \"\"\"\n",
    "    tokenizer = AutoTokenizer.from_pretrained(model_name)\n",
    "    tokenizer.bos_token_id = 1  # Set beginning of sentence token id\n",
    "    return tokenizer"
   ]
  },
  {
   "cell_type": "code",
   "execution_count": null,
   "id": "231c72f3-b2b3-494b-9b6a-a9f9ddc5bd23",
   "metadata": {},
   "outputs": [],
   "source": [
    "# load model\n",
    "model = load_quantized_model(model_name)\n",
    "\n",
    "# initialize tokenizer\n",
    "tokenizer = initialize_tokenizer(model_name)\n",
    "\n",
    "# specify stop token ids\n",
    "stop_token_ids = [0]"
   ]
  },
  {
   "cell_type": "code",
   "execution_count": null,
   "id": "b7e31fae-92e7-4f15-8cfd-021ff019df0b",
   "metadata": {},
   "outputs": [],
   "source": [
    "folder_path = '/content/data'"
   ]
  },
  {
   "cell_type": "code",
   "execution_count": null,
   "id": "395bccad-4ccc-49ae-b779-0cd4181e2266",
   "metadata": {},
   "outputs": [],
   "source": [
    "# load pdf files\n",
    "loader = PyPDFDirectoryLoader(folder_path)\n",
    "documents = loader.load()\n",
    "\n",
    "# split the documents in small chunks\n",
    "text_splitter = RecursiveCharacterTextSplitter(chunk_size=1000, chunk_overlap=100) #Chage the chunk_size and chunk_overlap as needed\n",
    "all_splits = text_splitter.split_documents(documents)\n",
    "\n",
    "# specify embedding model (using huggingface sentence transformer)\n",
    "embedding_model_name = \"sentence-transformers/all-mpnet-base-v2\"\n",
    "model_kwargs = {\"device\": \"cuda\"}\n",
    "embeddings = HuggingFaceEmbeddings(model_name=embedding_model_name, model_kwargs=model_kwargs)\n",
    "\n",
    "#embed document chunks\n",
    "vectordb = Chroma.from_documents(documents=all_splits, embedding=embeddings, persist_directory=\"chroma_db\")\n",
    "\n",
    "# specify the retriever\n",
    "retriever = vectordb.as_retriever()"
   ]
  }
 ],
 "metadata": {
  "kernelspec": {
   "display_name": "Python 3 (ipykernel)",
   "language": "python",
   "name": "python3"
  },
  "language_info": {
   "codemirror_mode": {
    "name": "ipython",
    "version": 3
   },
   "file_extension": ".py",
   "mimetype": "text/x-python",
   "name": "python",
   "nbconvert_exporter": "python",
   "pygments_lexer": "ipython3",
   "version": "3.12.4"
  }
 },
 "nbformat": 4,
 "nbformat_minor": 5
}
